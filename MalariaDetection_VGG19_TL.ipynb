{
 "cells": [
  {
   "cell_type": "markdown",
   "metadata": {},
   "source": [
    "## Creating CNN Using Scratch And Transfer Learning"
   ]
  },
  {
   "cell_type": "markdown",
   "metadata": {},
   "source": [
    "Please download the dataset from the below url"
   ]
  },
  {
   "cell_type": "code",
   "execution_count": 3,
   "metadata": {},
   "outputs": [],
   "source": [
    "#!pip install tensorflow"
   ]
  },
  {
   "cell_type": "code",
   "execution_count": 4,
   "metadata": {},
   "outputs": [
    {
     "name": "stdout",
     "output_type": "stream",
     "text": [
      "2.3.1\n"
     ]
    }
   ],
   "source": [
    "import tensorflow as tf\n",
    "print(tf.__version__)"
   ]
  },
  {
   "cell_type": "code",
   "execution_count": 5,
   "metadata": {},
   "outputs": [],
   "source": [
    "# import the libraries as shown below\n",
    "\n",
    "from tensorflow.keras.layers import Input, Lambda, Dense, Flatten,Conv2D\n",
    "from tensorflow.keras.models import Model\n",
    "from tensorflow.keras.applications.vgg19 import VGG19\n",
    "from tensorflow.keras.applications.resnet50 import preprocess_input\n",
    "from tensorflow.keras.preprocessing import image\n",
    "from tensorflow.keras.preprocessing.image import ImageDataGenerator,load_img\n",
    "from tensorflow.keras.models import Sequential\n",
    "import numpy as np\n",
    "from glob import glob\n",
    "import matplotlib.pyplot as plt"
   ]
  },
  {
   "cell_type": "code",
   "execution_count": 6,
   "metadata": {},
   "outputs": [],
   "source": [
    "# re-size all the images to this\n",
    "IMAGE_SIZE = [224, 224]\n",
    "\n",
    "train_path = 'Dataset/Train'\n",
    "valid_path = 'Dataset/Test'\n"
   ]
  },
  {
   "cell_type": "code",
   "execution_count": 7,
   "metadata": {},
   "outputs": [],
   "source": [
    "# Import the Vgg 16 library as shown below and add preprocessing layer to the front of VGG\n",
    "# Here we will be using imagenet weights\n",
    "\n",
    "vgg19 = VGG19(input_shape=IMAGE_SIZE + [3], weights='imagenet', include_top=False)"
   ]
  },
  {
   "cell_type": "code",
   "execution_count": 8,
   "metadata": {},
   "outputs": [
    {
     "name": "stdout",
     "output_type": "stream",
     "text": [
      "Model: \"vgg19\"\n",
      "_________________________________________________________________\n",
      "Layer (type)                 Output Shape              Param #   \n",
      "=================================================================\n",
      "input_1 (InputLayer)         [(None, 224, 224, 3)]     0         \n",
      "_________________________________________________________________\n",
      "block1_conv1 (Conv2D)        (None, 224, 224, 64)      1792      \n",
      "_________________________________________________________________\n",
      "block1_conv2 (Conv2D)        (None, 224, 224, 64)      36928     \n",
      "_________________________________________________________________\n",
      "block1_pool (MaxPooling2D)   (None, 112, 112, 64)      0         \n",
      "_________________________________________________________________\n",
      "block2_conv1 (Conv2D)        (None, 112, 112, 128)     73856     \n",
      "_________________________________________________________________\n",
      "block2_conv2 (Conv2D)        (None, 112, 112, 128)     147584    \n",
      "_________________________________________________________________\n",
      "block2_pool (MaxPooling2D)   (None, 56, 56, 128)       0         \n",
      "_________________________________________________________________\n",
      "block3_conv1 (Conv2D)        (None, 56, 56, 256)       295168    \n",
      "_________________________________________________________________\n",
      "block3_conv2 (Conv2D)        (None, 56, 56, 256)       590080    \n",
      "_________________________________________________________________\n",
      "block3_conv3 (Conv2D)        (None, 56, 56, 256)       590080    \n",
      "_________________________________________________________________\n",
      "block3_conv4 (Conv2D)        (None, 56, 56, 256)       590080    \n",
      "_________________________________________________________________\n",
      "block3_pool (MaxPooling2D)   (None, 28, 28, 256)       0         \n",
      "_________________________________________________________________\n",
      "block4_conv1 (Conv2D)        (None, 28, 28, 512)       1180160   \n",
      "_________________________________________________________________\n",
      "block4_conv2 (Conv2D)        (None, 28, 28, 512)       2359808   \n",
      "_________________________________________________________________\n",
      "block4_conv3 (Conv2D)        (None, 28, 28, 512)       2359808   \n",
      "_________________________________________________________________\n",
      "block4_conv4 (Conv2D)        (None, 28, 28, 512)       2359808   \n",
      "_________________________________________________________________\n",
      "block4_pool (MaxPooling2D)   (None, 14, 14, 512)       0         \n",
      "_________________________________________________________________\n",
      "block5_conv1 (Conv2D)        (None, 14, 14, 512)       2359808   \n",
      "_________________________________________________________________\n",
      "block5_conv2 (Conv2D)        (None, 14, 14, 512)       2359808   \n",
      "_________________________________________________________________\n",
      "block5_conv3 (Conv2D)        (None, 14, 14, 512)       2359808   \n",
      "_________________________________________________________________\n",
      "block5_conv4 (Conv2D)        (None, 14, 14, 512)       2359808   \n",
      "_________________________________________________________________\n",
      "block5_pool (MaxPooling2D)   (None, 7, 7, 512)         0         \n",
      "=================================================================\n",
      "Total params: 20,024,384\n",
      "Trainable params: 20,024,384\n",
      "Non-trainable params: 0\n",
      "_________________________________________________________________\n"
     ]
    }
   ],
   "source": [
    "vgg19.summary()"
   ]
  },
  {
   "cell_type": "code",
   "execution_count": 9,
   "metadata": {},
   "outputs": [],
   "source": [
    "# don't train existing weights\n",
    "for layer in vgg19.layers:\n",
    "    layer.trainable = False"
   ]
  },
  {
   "cell_type": "code",
   "execution_count": 10,
   "metadata": {},
   "outputs": [],
   "source": [
    "  # useful for getting number of output classes\n",
    "folders = glob('Dataset/Train/*')"
   ]
  },
  {
   "cell_type": "code",
   "execution_count": 11,
   "metadata": {},
   "outputs": [
    {
     "data": {
      "text/plain": [
       "['Dataset/Train\\\\Parasite', 'Dataset/Train\\\\Uninfected']"
      ]
     },
     "execution_count": 11,
     "metadata": {},
     "output_type": "execute_result"
    }
   ],
   "source": [
    "folders"
   ]
  },
  {
   "cell_type": "code",
   "execution_count": 13,
   "metadata": {},
   "outputs": [],
   "source": [
    "# our layers - you can add more if you want\n",
    "x = Flatten()(vgg19.output)"
   ]
  },
  {
   "cell_type": "code",
   "execution_count": 14,
   "metadata": {},
   "outputs": [],
   "source": [
    "prediction = Dense(len(folders), activation='softmax')(x)\n",
    "\n",
    "# create a model object\n",
    "model = Model(inputs=vgg19.input, outputs=prediction)"
   ]
  },
  {
   "cell_type": "code",
   "execution_count": 15,
   "metadata": {},
   "outputs": [
    {
     "name": "stdout",
     "output_type": "stream",
     "text": [
      "Model: \"functional_1\"\n",
      "_________________________________________________________________\n",
      "Layer (type)                 Output Shape              Param #   \n",
      "=================================================================\n",
      "input_1 (InputLayer)         [(None, 224, 224, 3)]     0         \n",
      "_________________________________________________________________\n",
      "block1_conv1 (Conv2D)        (None, 224, 224, 64)      1792      \n",
      "_________________________________________________________________\n",
      "block1_conv2 (Conv2D)        (None, 224, 224, 64)      36928     \n",
      "_________________________________________________________________\n",
      "block1_pool (MaxPooling2D)   (None, 112, 112, 64)      0         \n",
      "_________________________________________________________________\n",
      "block2_conv1 (Conv2D)        (None, 112, 112, 128)     73856     \n",
      "_________________________________________________________________\n",
      "block2_conv2 (Conv2D)        (None, 112, 112, 128)     147584    \n",
      "_________________________________________________________________\n",
      "block2_pool (MaxPooling2D)   (None, 56, 56, 128)       0         \n",
      "_________________________________________________________________\n",
      "block3_conv1 (Conv2D)        (None, 56, 56, 256)       295168    \n",
      "_________________________________________________________________\n",
      "block3_conv2 (Conv2D)        (None, 56, 56, 256)       590080    \n",
      "_________________________________________________________________\n",
      "block3_conv3 (Conv2D)        (None, 56, 56, 256)       590080    \n",
      "_________________________________________________________________\n",
      "block3_conv4 (Conv2D)        (None, 56, 56, 256)       590080    \n",
      "_________________________________________________________________\n",
      "block3_pool (MaxPooling2D)   (None, 28, 28, 256)       0         \n",
      "_________________________________________________________________\n",
      "block4_conv1 (Conv2D)        (None, 28, 28, 512)       1180160   \n",
      "_________________________________________________________________\n",
      "block4_conv2 (Conv2D)        (None, 28, 28, 512)       2359808   \n",
      "_________________________________________________________________\n",
      "block4_conv3 (Conv2D)        (None, 28, 28, 512)       2359808   \n",
      "_________________________________________________________________\n",
      "block4_conv4 (Conv2D)        (None, 28, 28, 512)       2359808   \n",
      "_________________________________________________________________\n",
      "block4_pool (MaxPooling2D)   (None, 14, 14, 512)       0         \n",
      "_________________________________________________________________\n",
      "block5_conv1 (Conv2D)        (None, 14, 14, 512)       2359808   \n",
      "_________________________________________________________________\n",
      "block5_conv2 (Conv2D)        (None, 14, 14, 512)       2359808   \n",
      "_________________________________________________________________\n",
      "block5_conv3 (Conv2D)        (None, 14, 14, 512)       2359808   \n",
      "_________________________________________________________________\n",
      "block5_conv4 (Conv2D)        (None, 14, 14, 512)       2359808   \n",
      "_________________________________________________________________\n",
      "block5_pool (MaxPooling2D)   (None, 7, 7, 512)         0         \n",
      "_________________________________________________________________\n",
      "flatten_1 (Flatten)          (None, 25088)             0         \n",
      "_________________________________________________________________\n",
      "dense (Dense)                (None, 2)                 50178     \n",
      "=================================================================\n",
      "Total params: 20,074,562\n",
      "Trainable params: 50,178\n",
      "Non-trainable params: 20,024,384\n",
      "_________________________________________________________________\n"
     ]
    }
   ],
   "source": [
    "\n",
    "# view the structure of the model\n",
    "model.summary()\n"
   ]
  },
  {
   "cell_type": "code",
   "execution_count": 16,
   "metadata": {},
   "outputs": [],
   "source": [
    "from tensorflow.keras.layers import MaxPooling2D"
   ]
  },
  {
   "cell_type": "code",
   "execution_count": 17,
   "metadata": {},
   "outputs": [
    {
     "name": "stdout",
     "output_type": "stream",
     "text": [
      "Model: \"sequential\"\n",
      "_________________________________________________________________\n",
      "Layer (type)                 Output Shape              Param #   \n",
      "=================================================================\n",
      "conv2d (Conv2D)              (None, 224, 224, 16)      208       \n",
      "_________________________________________________________________\n",
      "max_pooling2d (MaxPooling2D) (None, 112, 112, 16)      0         \n",
      "_________________________________________________________________\n",
      "conv2d_1 (Conv2D)            (None, 112, 112, 32)      2080      \n",
      "_________________________________________________________________\n",
      "max_pooling2d_1 (MaxPooling2 (None, 56, 56, 32)        0         \n",
      "_________________________________________________________________\n",
      "conv2d_2 (Conv2D)            (None, 56, 56, 64)        8256      \n",
      "_________________________________________________________________\n",
      "max_pooling2d_2 (MaxPooling2 (None, 28, 28, 64)        0         \n",
      "_________________________________________________________________\n",
      "flatten_2 (Flatten)          (None, 50176)             0         \n",
      "_________________________________________________________________\n",
      "dense_1 (Dense)              (None, 500)               25088500  \n",
      "_________________________________________________________________\n",
      "dense_2 (Dense)              (None, 2)                 1002      \n",
      "=================================================================\n",
      "Total params: 25,100,046\n",
      "Trainable params: 25,100,046\n",
      "Non-trainable params: 0\n",
      "_________________________________________________________________\n"
     ]
    }
   ],
   "source": [
    "### Create Model from scratch using CNN\n",
    "\n",
    "model=Sequential()\n",
    "model.add(Conv2D(filters=16,kernel_size=2,padding=\"same\",activation=\"relu\",input_shape=(224,224,3)))\n",
    "model.add(MaxPooling2D(pool_size=2))\n",
    "model.add(Conv2D(filters=32,kernel_size=2,padding=\"same\",activation =\"relu\"))\n",
    "model.add(MaxPooling2D(pool_size=2))\n",
    "model.add(Conv2D(filters=64,kernel_size=2,padding=\"same\",activation=\"relu\"))\n",
    "model.add(MaxPooling2D(pool_size=2))\n",
    "model.add(Flatten())\n",
    "model.add(Dense(500,activation=\"relu\"))\n",
    "model.add(Dense(2,activation=\"softmax\"))\n",
    "model.summary()"
   ]
  },
  {
   "cell_type": "code",
   "execution_count": 18,
   "metadata": {},
   "outputs": [],
   "source": [
    "# tell the model what cost and optimization method to use\n",
    "\n",
    "model.compile(\n",
    "  loss='categorical_crossentropy',\n",
    "  optimizer='adam',\n",
    "  metrics=['accuracy']\n",
    ")\n"
   ]
  },
  {
   "cell_type": "code",
   "execution_count": 19,
   "metadata": {},
   "outputs": [],
   "source": [
    "# Use the Image Data Generator to import the images from the dataset\n",
    "\n",
    "from tensorflow.keras.preprocessing.image import ImageDataGenerator\n",
    "\n",
    "train_datagen = ImageDataGenerator(rescale = 1./255,\n",
    "                                   shear_range = 0.2,\n",
    "                                   zoom_range = 0.2,\n",
    "                                   horizontal_flip = True)\n",
    "\n",
    "test_datagen = ImageDataGenerator(rescale = 1./255)"
   ]
  },
  {
   "cell_type": "code",
   "execution_count": 20,
   "metadata": {},
   "outputs": [
    {
     "name": "stdout",
     "output_type": "stream",
     "text": [
      "Found 416 images belonging to 2 classes.\n"
     ]
    }
   ],
   "source": [
    "# Make sure you provide the same target size as initialied for the image size\n",
    "training_set = train_datagen.flow_from_directory('Dataset/Train',\n",
    "                                                 target_size = (224, 224),\n",
    "                                                 batch_size = 32,\n",
    "                                                 class_mode = 'categorical')"
   ]
  },
  {
   "cell_type": "code",
   "execution_count": 21,
   "metadata": {},
   "outputs": [
    {
     "data": {
      "text/plain": [
       "<tensorflow.python.keras.preprocessing.image.DirectoryIterator at 0x1d73a011850>"
      ]
     },
     "execution_count": 21,
     "metadata": {},
     "output_type": "execute_result"
    }
   ],
   "source": [
    "training_set"
   ]
  },
  {
   "cell_type": "code",
   "execution_count": 22,
   "metadata": {},
   "outputs": [
    {
     "name": "stdout",
     "output_type": "stream",
     "text": [
      "Found 134 images belonging to 2 classes.\n"
     ]
    }
   ],
   "source": [
    "test_set = test_datagen.flow_from_directory('Dataset/Test',\n",
    "                                            target_size = (224, 224),\n",
    "                                            batch_size = 32,\n",
    "                                            class_mode = 'categorical')"
   ]
  },
  {
   "cell_type": "code",
   "execution_count": 23,
   "metadata": {
    "scrolled": true
   },
   "outputs": [
    {
     "name": "stdout",
     "output_type": "stream",
     "text": [
      "WARNING:tensorflow:From <ipython-input-23-621e5f553447>:4: Model.fit_generator (from tensorflow.python.keras.engine.training) is deprecated and will be removed in a future version.\n",
      "Instructions for updating:\n",
      "Please use Model.fit, which supports generators.\n",
      "Epoch 1/50\n",
      "13/13 [==============================] - 18s 1s/step - loss: 1.4273 - accuracy: 0.5649 - val_loss: 0.6919 - val_accuracy: 0.4776\n",
      "Epoch 2/50\n",
      "13/13 [==============================] - 17s 1s/step - loss: 0.5616 - accuracy: 0.6971 - val_loss: 0.8595 - val_accuracy: 0.3060\n",
      "Epoch 3/50\n",
      "13/13 [==============================] - 17s 1s/step - loss: 0.4763 - accuracy: 0.7596 - val_loss: 0.9270 - val_accuracy: 0.4552\n",
      "Epoch 4/50\n",
      "13/13 [==============================] - 17s 1s/step - loss: 0.4984 - accuracy: 0.7572 - val_loss: 0.8257 - val_accuracy: 0.4104\n",
      "Epoch 5/50\n",
      "13/13 [==============================] - 17s 1s/step - loss: 0.4358 - accuracy: 0.7981 - val_loss: 1.1340 - val_accuracy: 0.4254\n",
      "Epoch 6/50\n",
      "13/13 [==============================] - 17s 1s/step - loss: 0.3894 - accuracy: 0.8053 - val_loss: 0.7935 - val_accuracy: 0.4254\n",
      "Epoch 7/50\n",
      "13/13 [==============================] - 17s 1s/step - loss: 0.3571 - accuracy: 0.8413 - val_loss: 0.8918 - val_accuracy: 0.4925\n",
      "Epoch 8/50\n",
      "13/13 [==============================] - 17s 1s/step - loss: 0.3723 - accuracy: 0.8510 - val_loss: 0.7633 - val_accuracy: 0.5896\n",
      "Epoch 9/50\n",
      "13/13 [==============================] - 17s 1s/step - loss: 0.3064 - accuracy: 0.8558 - val_loss: 0.5952 - val_accuracy: 0.6269\n",
      "Epoch 10/50\n",
      "13/13 [==============================] - 18s 1s/step - loss: 0.2630 - accuracy: 0.8990 - val_loss: 0.6554 - val_accuracy: 0.6493\n",
      "Epoch 11/50\n",
      "13/13 [==============================] - 17s 1s/step - loss: 0.2063 - accuracy: 0.9375 - val_loss: 0.7122 - val_accuracy: 0.6567\n",
      "Epoch 12/50\n",
      "13/13 [==============================] - 17s 1s/step - loss: 0.1873 - accuracy: 0.9183 - val_loss: 0.3830 - val_accuracy: 0.8209\n",
      "Epoch 13/50\n",
      "13/13 [==============================] - 17s 1s/step - loss: 0.1702 - accuracy: 0.9351 - val_loss: 0.6510 - val_accuracy: 0.6940\n",
      "Epoch 14/50\n",
      "13/13 [==============================] - 18s 1s/step - loss: 0.1659 - accuracy: 0.9567 - val_loss: 0.4309 - val_accuracy: 0.8060\n",
      "Epoch 15/50\n",
      "13/13 [==============================] - 19s 1s/step - loss: 0.1602 - accuracy: 0.9567 - val_loss: 0.4753 - val_accuracy: 0.7910\n",
      "Epoch 16/50\n",
      "13/13 [==============================] - 17s 1s/step - loss: 0.1416 - accuracy: 0.9543 - val_loss: 0.2618 - val_accuracy: 0.8955\n",
      "Epoch 17/50\n",
      "13/13 [==============================] - 16s 1s/step - loss: 0.1313 - accuracy: 0.9591 - val_loss: 0.2572 - val_accuracy: 0.9030\n",
      "Epoch 18/50\n",
      "13/13 [==============================] - 16s 1s/step - loss: 0.1101 - accuracy: 0.9688 - val_loss: 0.4794 - val_accuracy: 0.8284\n",
      "Epoch 19/50\n",
      "13/13 [==============================] - 17s 1s/step - loss: 0.0958 - accuracy: 0.9712 - val_loss: 0.2951 - val_accuracy: 0.8657\n",
      "Epoch 20/50\n",
      "13/13 [==============================] - 16s 1s/step - loss: 0.0983 - accuracy: 0.9712 - val_loss: 0.2426 - val_accuracy: 0.8955\n",
      "Epoch 21/50\n",
      "13/13 [==============================] - 16s 1s/step - loss: 0.0789 - accuracy: 0.9784 - val_loss: 0.2798 - val_accuracy: 0.8731\n",
      "Epoch 22/50\n",
      "13/13 [==============================] - 16s 1s/step - loss: 0.0796 - accuracy: 0.9736 - val_loss: 0.4135 - val_accuracy: 0.8433\n",
      "Epoch 23/50\n",
      "13/13 [==============================] - 17s 1s/step - loss: 0.1009 - accuracy: 0.9663 - val_loss: 0.3726 - val_accuracy: 0.8582\n",
      "Epoch 24/50\n",
      "13/13 [==============================] - 16s 1s/step - loss: 0.0652 - accuracy: 0.9784 - val_loss: 0.4822 - val_accuracy: 0.8433\n",
      "Epoch 25/50\n",
      "13/13 [==============================] - 17s 1s/step - loss: 0.1276 - accuracy: 0.9615 - val_loss: 0.4110 - val_accuracy: 0.8433\n",
      "Epoch 26/50\n",
      "13/13 [==============================] - 17s 1s/step - loss: 0.1078 - accuracy: 0.9639 - val_loss: 0.3155 - val_accuracy: 0.8955\n",
      "Epoch 27/50\n",
      "13/13 [==============================] - 17s 1s/step - loss: 0.0652 - accuracy: 0.9856 - val_loss: 0.3176 - val_accuracy: 0.8955\n",
      "Epoch 28/50\n",
      "13/13 [==============================] - 17s 1s/step - loss: 0.0552 - accuracy: 0.9856 - val_loss: 0.2368 - val_accuracy: 0.9104\n",
      "Epoch 29/50\n",
      "13/13 [==============================] - 16s 1s/step - loss: 0.0714 - accuracy: 0.9784 - val_loss: 0.5859 - val_accuracy: 0.8134\n",
      "Epoch 30/50\n",
      "13/13 [==============================] - 17s 1s/step - loss: 0.1381 - accuracy: 0.9495 - val_loss: 0.4397 - val_accuracy: 0.8358\n",
      "Epoch 31/50\n",
      "13/13 [==============================] - 16s 1s/step - loss: 0.1064 - accuracy: 0.9760 - val_loss: 0.1739 - val_accuracy: 0.9552\n",
      "Epoch 32/50\n",
      "13/13 [==============================] - 16s 1s/step - loss: 0.0542 - accuracy: 0.9832 - val_loss: 0.1966 - val_accuracy: 0.9104\n",
      "Epoch 33/50\n",
      "13/13 [==============================] - 17s 1s/step - loss: 0.0635 - accuracy: 0.9832 - val_loss: 0.1702 - val_accuracy: 0.9254\n",
      "Epoch 34/50\n",
      "13/13 [==============================] - 16s 1s/step - loss: 0.1078 - accuracy: 0.9639 - val_loss: 0.4803 - val_accuracy: 0.8284\n",
      "Epoch 35/50\n",
      "13/13 [==============================] - 16s 1s/step - loss: 0.1082 - accuracy: 0.9688 - val_loss: 0.2052 - val_accuracy: 0.9104\n",
      "Epoch 36/50\n",
      "13/13 [==============================] - 16s 1s/step - loss: 0.0510 - accuracy: 0.9856 - val_loss: 0.2187 - val_accuracy: 0.9104\n",
      "Epoch 37/50\n",
      "13/13 [==============================] - 17s 1s/step - loss: 0.0546 - accuracy: 0.9832 - val_loss: 0.1959 - val_accuracy: 0.9179\n",
      "Epoch 38/50\n",
      "13/13 [==============================] - 16s 1s/step - loss: 0.0517 - accuracy: 0.9832 - val_loss: 0.4063 - val_accuracy: 0.8731\n",
      "Epoch 39/50\n",
      "13/13 [==============================] - 17s 1s/step - loss: 0.0474 - accuracy: 0.9904 - val_loss: 0.2288 - val_accuracy: 0.9104\n",
      "Epoch 40/50\n",
      "13/13 [==============================] - 17s 1s/step - loss: 0.0795 - accuracy: 0.9832 - val_loss: 0.6323 - val_accuracy: 0.8582\n",
      "Epoch 41/50\n",
      "13/13 [==============================] - 18s 1s/step - loss: 0.1252 - accuracy: 0.9543 - val_loss: 0.4378 - val_accuracy: 0.8507\n",
      "Epoch 42/50\n",
      "13/13 [==============================] - 18s 1s/step - loss: 0.0921 - accuracy: 0.9712 - val_loss: 0.3067 - val_accuracy: 0.8731\n",
      "Epoch 43/50\n",
      "13/13 [==============================] - 18s 1s/step - loss: 0.0551 - accuracy: 0.9856 - val_loss: 0.2326 - val_accuracy: 0.9478\n",
      "Epoch 44/50\n",
      "13/13 [==============================] - 19s 1s/step - loss: 0.0875 - accuracy: 0.9736 - val_loss: 0.1856 - val_accuracy: 0.9254\n",
      "Epoch 45/50\n",
      "13/13 [==============================] - 18s 1s/step - loss: 0.0469 - accuracy: 0.9928 - val_loss: 0.2244 - val_accuracy: 0.9254\n",
      "Epoch 46/50\n",
      "13/13 [==============================] - 16s 1s/step - loss: 0.0464 - accuracy: 0.9880 - val_loss: 0.3419 - val_accuracy: 0.8881\n",
      "Epoch 47/50\n",
      "13/13 [==============================] - 17s 1s/step - loss: 0.0353 - accuracy: 0.9928 - val_loss: 0.1553 - val_accuracy: 0.9627\n",
      "Epoch 48/50\n",
      "13/13 [==============================] - 17s 1s/step - loss: 0.0263 - accuracy: 0.9928 - val_loss: 0.3201 - val_accuracy: 0.9030\n",
      "Epoch 49/50\n",
      "13/13 [==============================] - 16s 1s/step - loss: 0.0277 - accuracy: 0.9952 - val_loss: 0.2841 - val_accuracy: 0.9104\n",
      "Epoch 50/50\n",
      "13/13 [==============================] - 16s 1s/step - loss: 0.0305 - accuracy: 0.9928 - val_loss: 0.2582 - val_accuracy: 0.9030\n"
     ]
    }
   ],
   "source": [
    "# fit the model\n",
    "\n",
    "# Run the cell. It will take some time to execute\n",
    "r = model.fit_generator(\n",
    "  training_set,\n",
    "  validation_data=test_set,\n",
    "  epochs=50,\n",
    "  steps_per_epoch=len(training_set),\n",
    "  validation_steps=len(test_set)\n",
    ")"
   ]
  },
  {
   "cell_type": "code",
   "execution_count": 25,
   "metadata": {},
   "outputs": [
    {
     "data": {
      "image/png": "[encoded data removed]",
      "text/plain": [
       "<Figure size 432x288 with 1 Axes>"
      ]
     },
     "metadata": {
      "needs_background": "light"
     },
     "output_type": "display_data"
    },
    {
     "data": {
      "image/png": "[encoded data removed]",
      "text/plain": [
       "<Figure size 432x288 with 1 Axes>"
      ]
     },
     "metadata": {
      "needs_background": "light"
     },
     "output_type": "display_data"
    },
    {
     "data": {
      "text/plain": [
       "<Figure size 432x288 with 0 Axes>"
      ]
     },
     "metadata": {},
     "output_type": "display_data"
    }
   ],
   "source": [
    "# plot the loss\n",
    "plt.plot(r.history['loss'], label='train loss')\n",
    "plt.plot(r.history['val_loss'], label='val loss')\n",
    "plt.legend()\n",
    "plt.show()\n",
    "plt.savefig('LossVal_loss')\n",
    "\n",
    "# plot the accuracy\n",
    "plt.plot(r.history['accuracy'], label='train acc')\n",
    "plt.plot(r.history['val_accuracy'], label='val acc')\n",
    "plt.legend()\n",
    "plt.show()\n",
    "plt.savefig('AccVal_acc')"
   ]
  },
  {
   "cell_type": "code",
   "execution_count": 26,
   "metadata": {},
   "outputs": [],
   "source": [
    "# save it as a h5 file\n",
    "\n",
    "\n",
    "from tensorflow.keras.models import load_model\n",
    "\n",
    "model.save('model_vgg19.h5')"
   ]
  },
  {
   "cell_type": "code",
   "execution_count": 27,
   "metadata": {},
   "outputs": [],
   "source": [
    "y_pred = model.predict(test_set)"
   ]
  },
  {
   "cell_type": "code",
   "execution_count": 28,
   "metadata": {},
   "outputs": [
    {
     "data": {
      "text/plain": [
       "array([[4.51545119e-02, 9.54845488e-01],\n",
       "       [9.99940038e-01, 5.99917876e-05],\n",
       "       [3.18964124e-02, 9.68103588e-01],\n",
       "       [3.87741625e-03, 9.96122539e-01],\n",
       "       [9.99999881e-01, 6.09894926e-08],\n",
       "       [9.97687936e-01, 2.31202017e-03],\n",
       "       [6.14346527e-02, 9.38565373e-01],\n",
       "       [9.99836683e-01, 1.63263583e-04],\n",
       "       [1.17185442e-02, 9.88281429e-01],\n",
       "       [1.27873104e-02, 9.87212718e-01],\n",
       "       [9.99986172e-01, 1.37843845e-05],\n",
       "       [1.06656058e-02, 9.89334404e-01],\n",
       "       [1.00000000e+00, 5.02967390e-10],\n",
       "       [9.99989510e-01, 1.04478995e-05],\n",
       "       [9.98408735e-01, 1.59132225e-03],\n",
       "       [6.08750014e-03, 9.93912578e-01],\n",
       "       [8.01602602e-01, 1.98397383e-01],\n",
       "       [3.21728690e-03, 9.96782660e-01],\n",
       "       [1.00000000e+00, 1.97774685e-13],\n",
       "       [4.71354723e-01, 5.28645277e-01],\n",
       "       [1.00000000e+00, 7.84381560e-10],\n",
       "       [9.99599993e-01, 4.00079094e-04],\n",
       "       [2.57721706e-03, 9.97422814e-01],\n",
       "       [9.99990106e-01, 9.91449815e-06],\n",
       "       [9.99985099e-01, 1.48445242e-05],\n",
       "       [9.99812543e-01, 1.87532074e-04],\n",
       "       [9.99985814e-01, 1.42423705e-05],\n",
       "       [9.99904037e-01, 9.60100879e-05],\n",
       "       [8.89006071e-04, 9.99110997e-01],\n",
       "       [9.99989033e-01, 1.09890516e-05],\n",
       "       [2.33898056e-03, 9.97660995e-01],\n",
       "       [1.00000000e+00, 1.32491448e-10],\n",
       "       [9.99994755e-01, 5.29137878e-06],\n",
       "       [9.99999762e-01, 2.06870155e-07],\n",
       "       [5.25385663e-02, 9.47461367e-01],\n",
       "       [1.00000000e+00, 4.88060136e-18],\n",
       "       [9.99999762e-01, 2.51328544e-07],\n",
       "       [9.99999404e-01, 5.39234861e-07],\n",
       "       [1.69404253e-01, 8.30595732e-01],\n",
       "       [2.01891720e-01, 7.98108280e-01],\n",
       "       [2.89881136e-03, 9.97101128e-01],\n",
       "       [4.98081883e-03, 9.95019197e-01],\n",
       "       [9.99998450e-01, 1.53807071e-06],\n",
       "       [1.00000000e+00, 7.69955193e-12],\n",
       "       [9.99983907e-01, 1.61278258e-05],\n",
       "       [9.99880075e-01, 1.19868135e-04],\n",
       "       [9.99999285e-01, 7.49891740e-07],\n",
       "       [2.23376706e-01, 7.76623309e-01],\n",
       "       [9.85489190e-01, 1.45107778e-02],\n",
       "       [9.99999523e-01, 5.07187451e-07],\n",
       "       [9.11041871e-02, 9.08895791e-01],\n",
       "       [9.66599524e-01, 3.34005132e-02],\n",
       "       [9.88433301e-01, 1.15666613e-02],\n",
       "       [9.99712169e-01, 2.87866947e-04],\n",
       "       [7.66715733e-04, 9.99233246e-01],\n",
       "       [2.79234722e-03, 9.97207701e-01],\n",
       "       [9.99999881e-01, 7.00072746e-08],\n",
       "       [1.35885142e-02, 9.86411512e-01],\n",
       "       [2.42053508e-03, 9.97579515e-01],\n",
       "       [3.18279564e-02, 9.68172073e-01],\n",
       "       [3.86203127e-03, 9.96137917e-01],\n",
       "       [7.24913701e-02, 9.27508652e-01],\n",
       "       [9.99999642e-01, 2.99773887e-07],\n",
       "       [9.99959826e-01, 4.01929210e-05],\n",
       "       [9.99992847e-01, 7.18906540e-06],\n",
       "       [2.32914776e-01, 7.67085254e-01],\n",
       "       [9.99998927e-01, 1.11041538e-06],\n",
       "       [4.53544734e-03, 9.95464623e-01],\n",
       "       [7.29866186e-03, 9.92701292e-01],\n",
       "       [9.99912262e-01, 8.76748891e-05],\n",
       "       [9.99996543e-01, 3.43613260e-06],\n",
       "       [9.99918580e-01, 8.13782754e-05],\n",
       "       [9.95141387e-01, 4.85858368e-03],\n",
       "       [9.99877691e-01, 1.22314013e-04],\n",
       "       [1.00000000e+00, 2.45431684e-18],\n",
       "       [9.99853611e-01, 1.46374048e-04],\n",
       "       [9.99947190e-01, 5.28336968e-05],\n",
       "       [8.11027363e-03, 9.91889775e-01],\n",
       "       [9.99870896e-01, 1.29114676e-04],\n",
       "       [9.99961615e-01, 3.84308114e-05],\n",
       "       [1.16290422e-02, 9.88371015e-01],\n",
       "       [4.92444029e-03, 9.95075524e-01],\n",
       "       [3.57346117e-01, 6.42653823e-01],\n",
       "       [1.00000000e+00, 1.62306224e-10],\n",
       "       [7.54645944e-01, 2.45354116e-01],\n",
       "       [9.99850869e-01, 1.49104249e-04],\n",
       "       [9.99992251e-01, 7.70069710e-06],\n",
       "       [9.99731004e-01, 2.68986565e-04],\n",
       "       [3.67520265e-02, 9.63248014e-01],\n",
       "       [9.99786437e-01, 2.13562715e-04],\n",
       "       [7.59424921e-03, 9.92405713e-01],\n",
       "       [1.00000000e+00, 1.11499325e-08],\n",
       "       [9.99936581e-01, 6.34126991e-05],\n",
       "       [1.00000000e+00, 5.04952525e-13],\n",
       "       [1.33686448e-02, 9.86631334e-01],\n",
       "       [9.99845147e-01, 1.54798923e-04],\n",
       "       [1.36720482e-02, 9.86328006e-01],\n",
       "       [9.99980569e-01, 1.94152381e-05],\n",
       "       [7.76585937e-02, 9.22341347e-01],\n",
       "       [1.37676522e-02, 9.86232340e-01],\n",
       "       [9.99992728e-01, 7.31160662e-06],\n",
       "       [9.99620795e-01, 3.79194360e-04],\n",
       "       [6.59312904e-01, 3.40687126e-01],\n",
       "       [8.01756307e-02, 9.19824362e-01],\n",
       "       [3.44967209e-02, 9.65503275e-01],\n",
       "       [1.49545446e-03, 9.98504519e-01],\n",
       "       [9.99613225e-01, 3.86821426e-04],\n",
       "       [1.00000000e+00, 7.68258206e-15],\n",
       "       [1.93777517e-03, 9.98062193e-01],\n",
       "       [7.21782818e-02, 9.27821755e-01],\n",
       "       [2.64780987e-02, 9.73521829e-01],\n",
       "       [9.99888539e-01, 1.11457135e-04],\n",
       "       [9.99964118e-01, 3.58875404e-05],\n",
       "       [1.20633689e-03, 9.98793602e-01],\n",
       "       [9.95527685e-01, 4.47226502e-03],\n",
       "       [5.56430593e-02, 9.44356918e-01],\n",
       "       [9.99976158e-01, 2.38701832e-05],\n",
       "       [2.96781301e-01, 7.03218639e-01],\n",
       "       [1.00000000e+00, 2.99421856e-08],\n",
       "       [3.13540665e-03, 9.96864617e-01],\n",
       "       [1.19194631e-02, 9.88080502e-01],\n",
       "       [9.99999642e-01, 3.13294493e-07],\n",
       "       [2.56241811e-03, 9.97437596e-01],\n",
       "       [1.00000000e+00, 2.87570820e-08],\n",
       "       [9.99918580e-01, 8.13677179e-05],\n",
       "       [9.99569356e-01, 4.30592365e-04],\n",
       "       [9.99999881e-01, 7.48999796e-08],\n",
       "       [3.01674783e-01, 6.98325217e-01],\n",
       "       [9.99884009e-01, 1.15942326e-04],\n",
       "       [4.38085943e-03, 9.95619118e-01],\n",
       "       [2.00985558e-02, 9.79901433e-01],\n",
       "       [1.00000000e+00, 3.49280604e-08],\n",
       "       [1.51773700e-02, 9.84822631e-01],\n",
       "       [5.00400901e-01, 4.99599040e-01]], dtype=float32)"
      ]
     },
     "execution_count": 28,
     "metadata": {},
     "output_type": "execute_result"
    }
   ],
   "source": [
    "y_pred"
   ]
  },
  {
   "cell_type": "code",
   "execution_count": 29,
   "metadata": {},
   "outputs": [],
   "source": [
    "import numpy as np\n",
    "\n",
    "y_pred = np.argmax(y_pred, axis=1)"
   ]
  },
  {
   "cell_type": "code",
   "execution_count": 30,
   "metadata": {},
   "outputs": [
    {
     "data": {
      "text/plain": [
       "array([1, 0, 1, 1, 0, 0, 1, 0, 1, 1, 0, 1, 0, 0, 0, 1, 0, 1, 0, 1, 0, 0,\n",
       "       1, 0, 0, 0, 0, 0, 1, 0, 1, 0, 0, 0, 1, 0, 0, 0, 1, 1, 1, 1, 0, 0,\n",
       "       0, 0, 0, 1, 0, 0, 1, 0, 0, 0, 1, 1, 0, 1, 1, 1, 1, 1, 0, 0, 0, 1,\n",
       "       0, 1, 1, 0, 0, 0, 0, 0, 0, 0, 0, 1, 0, 0, 1, 1, 1, 0, 0, 0, 0, 0,\n",
       "       1, 0, 1, 0, 0, 0, 1, 0, 1, 0, 1, 1, 0, 0, 0, 1, 1, 1, 0, 0, 1, 1,\n",
       "       1, 0, 0, 1, 0, 1, 0, 1, 0, 1, 1, 0, 1, 0, 0, 0, 0, 1, 0, 1, 1, 0,\n",
       "       1, 0], dtype=int64)"
      ]
     },
     "execution_count": 30,
     "metadata": {},
     "output_type": "execute_result"
    }
   ],
   "source": [
    "y_pred"
   ]
  },
  {
   "cell_type": "code",
   "execution_count": 36,
   "metadata": {},
   "outputs": [],
   "source": [
    "# Load model\n",
    "\n",
    "from tensorflow.keras.models import load_model\n",
    "from tensorflow.keras.preprocessing import image"
   ]
  },
  {
   "cell_type": "code",
   "execution_count": 22,
   "metadata": {},
   "outputs": [],
   "source": [
    "model=load_model('model_vgg19.h5')"
   ]
  },
  {
   "cell_type": "code",
   "execution_count": 31,
   "metadata": {},
   "outputs": [],
   "source": [
    "# Test Data"
   ]
  },
  {
   "cell_type": "code",
   "execution_count": 132,
   "metadata": {},
   "outputs": [],
   "source": [
    "img=image.load_img('Dataset/Test/Uninfected/C3thin_original_IMG_20150608_163047_cell_168.png',target_size=(224,224))\n"
   ]
  },
  {
   "cell_type": "code",
   "execution_count": 133,
   "metadata": {},
   "outputs": [],
   "source": [
    "#img=image.load_img('Dataset/Test/Parasite/C39P4thinF_original_IMG_20150622_105803_cell_88.png',target_size=(224,224))"
   ]
  },
  {
   "cell_type": "code",
   "execution_count": 134,
   "metadata": {},
   "outputs": [
    {
     "name": "stdout",
     "output_type": "stream",
     "text": [
      "[[[0. 0. 0.]\n",
      "  [0. 0. 0.]\n",
      "  [0. 0. 0.]\n",
      "  ...\n",
      "  [0. 0. 0.]\n",
      "  [0. 0. 0.]\n",
      "  [0. 0. 0.]]\n",
      "\n",
      " [[0. 0. 0.]\n",
      "  [0. 0. 0.]\n",
      "  [0. 0. 0.]\n",
      "  ...\n",
      "  [0. 0. 0.]\n",
      "  [0. 0. 0.]\n",
      "  [0. 0. 0.]]\n",
      "\n",
      " [[0. 0. 0.]\n",
      "  [0. 0. 0.]\n",
      "  [0. 0. 0.]\n",
      "  ...\n",
      "  [0. 0. 0.]\n",
      "  [0. 0. 0.]\n",
      "  [0. 0. 0.]]\n",
      "\n",
      " ...\n",
      "\n",
      " [[0. 0. 0.]\n",
      "  [0. 0. 0.]\n",
      "  [0. 0. 0.]\n",
      "  ...\n",
      "  [0. 0. 0.]\n",
      "  [0. 0. 0.]\n",
      "  [0. 0. 0.]]\n",
      "\n",
      " [[0. 0. 0.]\n",
      "  [0. 0. 0.]\n",
      "  [0. 0. 0.]\n",
      "  ...\n",
      "  [0. 0. 0.]\n",
      "  [0. 0. 0.]\n",
      "  [0. 0. 0.]]\n",
      "\n",
      " [[0. 0. 0.]\n",
      "  [0. 0. 0.]\n",
      "  [0. 0. 0.]\n",
      "  ...\n",
      "  [0. 0. 0.]\n",
      "  [0. 0. 0.]\n",
      "  [0. 0. 0.]]]\n"
     ]
    }
   ],
   "source": [
    "x=image.img_to_array(img)\n",
    "print(x)"
   ]
  },
  {
   "cell_type": "code",
   "execution_count": 135,
   "metadata": {},
   "outputs": [
    {
     "data": {
      "text/plain": [
       "(224, 224, 3)"
      ]
     },
     "execution_count": 135,
     "metadata": {},
     "output_type": "execute_result"
    }
   ],
   "source": [
    "x.shape"
   ]
  },
  {
   "cell_type": "code",
   "execution_count": 136,
   "metadata": {},
   "outputs": [],
   "source": [
    "x=x/255"
   ]
  },
  {
   "cell_type": "code",
   "execution_count": 137,
   "metadata": {},
   "outputs": [
    {
     "data": {
      "text/plain": [
       "(1, 224, 224, 3)"
      ]
     },
     "execution_count": 137,
     "metadata": {},
     "output_type": "execute_result"
    }
   ],
   "source": [
    "x=np.expand_dims(x,axis=0)\n",
    "\n",
    "img_data=preprocess_input(x)\n",
    "img_data.shape"
   ]
  },
  {
   "cell_type": "code",
   "execution_count": 138,
   "metadata": {},
   "outputs": [
    {
     "data": {
      "text/plain": [
       "array([[1., 0.]], dtype=float32)"
      ]
     },
     "execution_count": 138,
     "metadata": {},
     "output_type": "execute_result"
    }
   ],
   "source": [
    "model.predict(img_data)"
   ]
  },
  {
   "cell_type": "code",
   "execution_count": 139,
   "metadata": {},
   "outputs": [],
   "source": [
    "a=np.argmax(model.predict(img_data), axis=1)"
   ]
  },
  {
   "cell_type": "code",
   "execution_count": 140,
   "metadata": {},
   "outputs": [
    {
     "data": {
      "text/plain": [
       "array([0], dtype=int64)"
      ]
     },
     "execution_count": 140,
     "metadata": {},
     "output_type": "execute_result"
    }
   ],
   "source": [
    "a"
   ]
  },
  {
   "cell_type": "code",
   "execution_count": 141,
   "metadata": {},
   "outputs": [
    {
     "name": "stdout",
     "output_type": "stream",
     "text": [
      "Parasited\n"
     ]
    }
   ],
   "source": [
    "if(a==1):\n",
    "    print(\"Uninfected\")\n",
    "else:\n",
    "    print(\"Parasited\")"
   ]
  },
  {
   "cell_type": "code",
   "execution_count": null,
   "metadata": {},
   "outputs": [],
   "source": []
  },
  {
   "cell_type": "code",
   "execution_count": 24,
   "metadata": {},
   "outputs": [
    {
     "name": "stdout",
     "output_type": "stream",
     "text": [
      "please install gpu\n"
     ]
    }
   ],
   "source": [
    "if tf.test.gpu_device_name():\n",
    "    print('Default gpu_device:{}'.format(tf.test.gpu_device_name()))\n",
    "else:\n",
    "    print('please install gpu')"
   ]
  },
  {
   "cell_type": "code",
   "execution_count": null,
   "metadata": {},
   "outputs": [],
   "source": []
  }
 ],
 "metadata": {
  "kernelspec": {
   "display_name": "Python 3",
   "language": "python",
   "name": "python3"
  },
  "language_info": {
   "codemirror_mode": {
    "name": "ipython",
    "version": 3
   },
   "file_extension": ".py",
   "mimetype": "text/x-python",
   "name": "python",
   "nbconvert_exporter": "python",
   "pygments_lexer": "ipython3",
   "version": "3.8.3"
  }
 },
 "nbformat": 4,
 "nbformat_minor": 2
}
